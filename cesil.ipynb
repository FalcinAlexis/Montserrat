{
 "cells": [
  {
   "cell_type": "code",
   "execution_count": 14,
   "metadata": {},
   "outputs": [],
   "source": [
    "import obspy as op\n",
    "import matplotlib.pyplot as plt\n",
    "st=op.read('/media/data/KennedySpaceCenter/wfdata/rocketevents/20160322_ULA_Atlas_V/BCHH_0383_20160323_0305.seed')\n"
   ]
  },
  {
   "cell_type": "code",
   "execution_count": 15,
   "metadata": {},
   "outputs": [],
   "source": [
    "st.plot(outfile='/var/www/usfseismiclab.org/rocket_seismograms.png')\n",
    "#st.spectrogram()\n"
   ]
  },
  {
   "cell_type": "code",
   "execution_count": 17,
   "metadata": {},
   "outputs": [],
   "source": [
    "fp = open('/var/www/usfseismiclab.org/html/cesil2.html','w+')\n",
    "fp.write(\n",
    "    '''<html>\n",
    "    <head>\n",
    "    <title>Rocket event webpage</title>\n",
    "    </head>\n",
    "    <body>\n",
    "    <h1>rocket event on 2016/03/22</h1>\n",
    "    <img src=\"rocket_seismograms.png\">\n",
    "    </body>\n",
    "    </html>\n",
    "    ''')\n",
    "fp.close()\n"
   ]
  },
  {
   "cell_type": "code",
   "execution_count": null,
   "metadata": {},
   "outputs": [],
   "source": []
  }
 ],
 "metadata": {
  "kernelspec": {
   "display_name": "Python 3",
   "language": "python",
   "name": "python3"
  },
  "language_info": {
   "codemirror_mode": {
    "name": "ipython",
    "version": 3
   },
   "file_extension": ".py",
   "mimetype": "text/x-python",
   "name": "python",
   "nbconvert_exporter": "python",
   "pygments_lexer": "ipython3",
   "version": "3.7.0"
  }
 },
 "nbformat": 4,
 "nbformat_minor": 2
}
